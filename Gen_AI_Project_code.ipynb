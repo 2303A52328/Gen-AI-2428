{
  "nbformat": 4,
  "nbformat_minor": 0,
  "metadata": {
    "colab": {
      "provenance": [],
      "authorship_tag": "ABX9TyMGfqunrbGX8VDuOflnbKpm",
      "include_colab_link": true
    },
    "kernelspec": {
      "name": "python3",
      "display_name": "Python 3"
    },
    "language_info": {
      "name": "python"
    }
  },
  "cells": [
    {
      "cell_type": "markdown",
      "metadata": {
        "id": "view-in-github",
        "colab_type": "text"
      },
      "source": [
        "<a href=\"https://colab.research.google.com/github/2303A52328/Gen-AI-2428/blob/main/Gen_AI_Project_code.ipynb\" target=\"_parent\"><img src=\"https://colab.research.google.com/assets/colab-badge.svg\" alt=\"Open In Colab\"/></a>"
      ]
    },
    {
      "cell_type": "code",
      "source": [
        "!pip install reportlab\n",
        "import numpy as np\n",
        "from tensorflow.keras import layers, models\n",
        "from sklearn.preprocessing import LabelEncoder\n",
        "from reportlab.lib.pagesizes import A4\n",
        "from reportlab.pdfgen import canvas\n",
        "from google.colab import files\n",
        "\n",
        "# Function to generate a simple ANN model for predicting resume quality/sections\n",
        "def create_ann_model(input_dim):\n",
        "    model = models.Sequential([\n",
        "        layers.Dense(128, activation='relu', input_dim=input_dim),\n",
        "        layers.Dropout(0.2),\n",
        "        layers.Dense(64, activation='relu'),\n",
        "        layers.Dense(1, activation='linear')  # Output: quality score or relevance (e.g., 0-100)\n",
        "    ])\n",
        "    model.compile(optimizer='adam', loss='mean_squared_error', metrics=['mae'])\n",
        "    return model\n",
        "\n",
        "# Dummy ANN model prediction for resume quality (simulated, replace with actual trained model)\n",
        "def mock_ann_predict(input_data):\n",
        "    # Random prediction simulating ANN output for quality score (e.g., 0 to 100)\n",
        "    return np.random.randint(50, 100)  # Simulate a score between 50 and 100\n",
        "\n",
        "# Function to generate a PDF resume\n",
        "def generate_resume_pdf(data, filename='Generated_Resume.pdf'):\n",
        "    c = canvas.Canvas(filename, pagesize=A4)\n",
        "    width, height = A4\n",
        "    y = height - 40\n",
        "\n",
        "    # Basic Info Header\n",
        "    c.setFont(\"Helvetica-Bold\", 18)\n",
        "    c.drawString(40, y, f\"{data['name']}\")\n",
        "    y -= 25\n",
        "    c.setFont(\"Helvetica\", 12)\n",
        "    c.drawString(40, y, f\"Mobile: {data['phone']} | Email: {data['email']}\")\n",
        "    y -= 20\n",
        "    c.drawString(40, y, f\"LinkedIn: {data['linkedin']}\")\n",
        "    y -= 20\n",
        "    c.drawString(40, y, f\"Location: {data['location']}\")\n",
        "\n",
        "    # Other Sections (with simulated ANN predictions)\n",
        "    for section, content in data.items():\n",
        "        if section not in ['name', 'phone', 'email', 'linkedin', 'location']:\n",
        "            y -= 35\n",
        "            c.setFont(\"Helvetica-Bold\", 14)\n",
        "            c.drawString(40, y, f\"{section} (Quality: {mock_ann_predict(content):.2f}%)\")  # Simulating quality score\n",
        "            y -= 20\n",
        "            c.setFont(\"Helvetica\", 11)\n",
        "            for line in content.split('\\n'):\n",
        "                if y < 50:\n",
        "                    c.showPage()\n",
        "                    y = height - 40\n",
        "                c.drawString(50, y, line.strip())\n",
        "                y -= 15\n",
        "\n",
        "    c.save()\n",
        "    return filename\n",
        "\n",
        "# Collect user input\n",
        "data = {\n",
        "    \"name\": input(\"Full Name: \"),\n",
        "    \"phone\": input(\"Mobile Number: \"),\n",
        "    \"email\": input(\"Email: \"),\n",
        "    \"linkedin\": input(\"LinkedIn URL: \"),\n",
        "    \"location\": input(\"Location: \"),\n",
        "    \"CAREER OBJECTIVE\": input(\"Career Objective:\\n\"),\n",
        "    \"EDUCATION\": input(\"Education Details:\\n\"),\n",
        "    \"INTERNSHIPS\": input(\"Internships:\\n\"),\n",
        "    \"PROJECTS\": input(\"Projects:\\n\"),\n",
        "    \"TECHNICAL SKILLS\": input(\"Technical Skills:\\n\"),\n",
        "    \"PERSONAL DETAILS\": input(\"Personal Details:\\n\"),\n",
        "    \"DECLARATION\": input(\"Declaration:\\n\")\n",
        "}\n",
        "\n",
        "# Create and train an ANN model (For demonstration, we'll use random data as training)\n",
        "# For actual usage, train the model with a large dataset of resume content\n",
        "X_train = np.random.rand(100, 5)  # Random data for training\n",
        "y_train = np.random.randint(50, 100, size=(100, 1))  # Random labels (simulating quality scores)\n",
        "\n",
        "model = create_ann_model(input_dim=X_train.shape[1])  # Define the model\n",
        "model.fit(X_train, y_train, epochs=10, batch_size=8, verbose=0)  # Train on random data\n",
        "\n",
        "# Simulate prediction (For each resume section, the model will predict a quality score)\n",
        "filename = generate_resume_pdf(data)\n",
        "\n",
        "# Show message and trigger download\n",
        "print(f\"\\n✅ Resume PDF '{filename}' has been generated!\")\n",
        "files.download(filename)"
      ],
      "metadata": {
        "colab": {
          "base_uri": "https://localhost:8080/"
        },
        "id": "QR7tCluAOK6F",
        "outputId": "ee6beeb7-d093-4e76-f93e-86f32db62e87"
      },
      "execution_count": null,
      "outputs": [
        {
          "output_type": "stream",
          "name": "stdout",
          "text": [
            "Collecting reportlab\n",
            "  Downloading reportlab-4.4.0-py3-none-any.whl.metadata (1.8 kB)\n",
            "Requirement already satisfied: pillow>=9.0.0 in /usr/local/lib/python3.11/dist-packages (from reportlab) (11.1.0)\n",
            "Requirement already satisfied: chardet in /usr/local/lib/python3.11/dist-packages (from reportlab) (5.2.0)\n",
            "Downloading reportlab-4.4.0-py3-none-any.whl (2.0 MB)\n",
            "\u001b[?25l   \u001b[90m━━━━━━━━━━━━━━━━━━━━━━━━━━━━━━━━━━━━━━━━\u001b[0m \u001b[32m0.0/2.0 MB\u001b[0m \u001b[31m?\u001b[0m eta \u001b[36m-:--:--\u001b[0m\r\u001b[2K   \u001b[91m━━━━\u001b[0m\u001b[90m╺\u001b[0m\u001b[90m━━━━━━━━━━━━━━━━━━━━━━━━━━━━━━━━━━━\u001b[0m \u001b[32m0.2/2.0 MB\u001b[0m \u001b[31m6.6 MB/s\u001b[0m eta \u001b[36m0:00:01\u001b[0m\r\u001b[2K   \u001b[91m━━━━━━━━━━━━━━━━━━━━━━━━━━━━━━━━━━━━━━━\u001b[0m\u001b[91m╸\u001b[0m \u001b[32m1.9/2.0 MB\u001b[0m \u001b[31m31.8 MB/s\u001b[0m eta \u001b[36m0:00:01\u001b[0m\r\u001b[2K   \u001b[90m━━━━━━━━━━━━━━━━━━━━━━━━━━━━━━━━━━━━━━━━\u001b[0m \u001b[32m2.0/2.0 MB\u001b[0m \u001b[31m22.7 MB/s\u001b[0m eta \u001b[36m0:00:00\u001b[0m\n",
            "\u001b[?25hInstalling collected packages: reportlab\n",
            "Successfully installed reportlab-4.4.0\n"
          ]
        }
      ]
    }
  ]
}